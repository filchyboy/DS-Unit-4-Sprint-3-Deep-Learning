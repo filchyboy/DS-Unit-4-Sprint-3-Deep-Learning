{
  "nbformat": 4,
  "nbformat_minor": 0,
  "metadata": {
    "colab": {
      "name": "Unit 4 Sprint 3 - Study Guide.ipynb",
      "provenance": [],
      "collapsed_sections": [],
      "include_colab_link": true
    },
    "kernelspec": {
      "name": "python3",
      "display_name": "Python 3"
    }
  },
  "cells": [
    {
      "cell_type": "markdown",
      "metadata": {
        "id": "view-in-github",
        "colab_type": "text"
      },
      "source": [
        "<a href=\"https://colab.research.google.com/github/filchyboy/DS-Unit-4-Sprint-3-Deep-Learning/blob/master/Unit_4_Sprint_3_Study_Guide.ipynb\" target=\"_parent\"><img src=\"https://colab.research.google.com/assets/colab-badge.svg\" alt=\"Open In Colab\"/></a>"
      ]
    },
    {
      "cell_type": "markdown",
      "metadata": {
        "id": "Nd2OOOVXxXS1",
        "colab_type": "text"
      },
      "source": [
        "This study guide should reinforce and provide practice for all of the concepts you have seen in the past week. There are a mix of written questions and coding exercises, both are equally important to prepare you for the sprint challenge as well as to be able to speak on these topics comfortably in interviews and on the job.\n",
        "\n",
        "If you get stuck or are unsure of something remember the 20 minute rule. If that doesn't help, then research a solution with google and stackoverflow. Only once you have exausted these methods should you turn to your Team Lead - they won't be there on your SC or during an interview. That being said, don't hesitate to ask for help if you truly are stuck.\n",
        "\n",
        "Have fun studying!"
      ]
    },
    {
      "cell_type": "markdown",
      "metadata": {
        "id": "fpvInKdXekFi",
        "colab_type": "text"
      },
      "source": [
        "## Questions"
      ]
    },
    {
      "cell_type": "markdown",
      "metadata": {
        "id": "Q6bS8AhBZ86H",
        "colab_type": "text"
      },
      "source": [
        "When completing this section, try to limit your answers to 2-3 sentences max and use plain english as much as possible. It's very easy to hide incomplete knowledge and understanding behind fancy or technical words, so imagine you are explaining these things to a non-technical interviewer.\n",
        "\n",
        "1. What is the difference between a RNN and a LSTM?\n",
        "```\n",
        "Put your answer here\n",
        "```\n",
        "\n",
        "2. What is a CNN?\n",
        "```\n",
        "Put your answer here\n",
        "```\n",
        "\n",
        "3. What are autoencoders used for?\n",
        "```\n",
        "Put your answer here\n",
        "```\n",
        "\n",
        "4. What do you consider your strongest area, as a Data Scientist?\n",
        "```\n",
        "Put your answer here\n",
        "```\n",
        "5. What area of Data Science would you most like to learn more about, and why?\n",
        "```\n",
        "Put your answer here\n",
        "```\n",
        "\n",
        "6. Where do you think Data Science will be in 5 years?\n",
        "```\n",
        "Put your answer here\n",
        "```\n",
        "\n",
        "7. What are the threats posed by AI to our society?\n",
        "```\n",
        "Put your answer here\n",
        "```\n",
        "\n",
        "8. How do you think we can counteract those threats?\n",
        "```\n",
        "Put your answer here\n",
        "```\n",
        "\n",
        "9. Do you think achieving General Artifical Intelligence is ever possible?\n",
        "Put your answer here\n",
        "```"
      ]
    },
    {
      "cell_type": "markdown",
      "metadata": {
        "id": "dUQaIwbceohq",
        "colab_type": "text"
      },
      "source": [
        "## Practice Problems"
      ]
    },
    {
      "cell_type": "markdown",
      "metadata": {
        "id": "rInloBoBLPRE",
        "colab_type": "text"
      },
      "source": [
        "Follow along with this notebook from start to finish. "
      ]
    },
    {
      "cell_type": "markdown",
      "metadata": {
        "id": "gzQyr1iPfJBH",
        "colab_type": "text"
      },
      "source": [
        "https://www.kaggle.com/tanumoynandy/sarcasm-detection-rnn-lstm\n",
        "\n",
        "https://www.kaggle.com/thebrownviking20/intro-to-recurrent-neural-networks-lstm-gru"
      ]
    },
    {
      "cell_type": "code",
      "metadata": {
        "id": "e5hj6Jjwen3J",
        "colab_type": "code",
        "colab": {}
      },
      "source": [
        ""
      ],
      "execution_count": 0,
      "outputs": []
    },
    {
      "cell_type": "markdown",
      "metadata": {
        "id": "ijwt2MNXmONV",
        "colab_type": "text"
      },
      "source": [
        "## what to study"
      ]
    },
    {
      "cell_type": "markdown",
      "metadata": {
        "id": "pcvFMpPy9cul",
        "colab_type": "text"
      },
      "source": [
        "# 1) RNN/LSTM\n",
        "# 2) CNN\n",
        "# 3) Autoencoder\n",
        "# 4) Keras to fit a predictive model\n",
        "# 5) Pad_sequences method\n"
      ]
    },
    {
      "cell_type": "code",
      "metadata": {
        "id": "xEfKdJQi_Eew",
        "colab_type": "code",
        "colab": {}
      },
      "source": [
        ""
      ],
      "execution_count": 0,
      "outputs": []
    }
  ]
}